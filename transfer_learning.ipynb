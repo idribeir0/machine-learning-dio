{
  "nbformat": 4,
  "nbformat_minor": 0,
  "metadata": {
    "colab": {
      "provenance": [],
      "authorship_tag": "ABX9TyPlHsQbrVDqy+pb72e30Hwx",
      "include_colab_link": true
    },
    "kernelspec": {
      "name": "python3",
      "display_name": "Python 3"
    },
    "language_info": {
      "name": "python"
    }
  },
  "cells": [
    {
      "cell_type": "markdown",
      "metadata": {
        "id": "view-in-github",
        "colab_type": "text"
      },
      "source": [
        "<a href=\"https://colab.research.google.com/github/idribeir0/machine-learning-dio/blob/main/transfer_learning.ipynb\" target=\"_parent\"><img src=\"https://colab.research.google.com/assets/colab-badge.svg\" alt=\"Open In Colab\"/></a>"
      ]
    },
    {
      "cell_type": "markdown",
      "source": [
        "# Projeto de transfer learning em python realizado para a trilha de machine learning specialist da DIO. Utilizo a biblioteca tensorflow e também um dataset já existente para treinar a partir dele o meu modelo."
      ],
      "metadata": {
        "id": "tTXqOx-qxXkw"
      }
    },
    {
      "cell_type": "code",
      "execution_count": 28,
      "metadata": {
        "id": "sNvtFkzXKGfH"
      },
      "outputs": [],
      "source": [
        "import tensorflow as tf\n",
        "import tensorflow_datasets as tfds"
      ]
    },
    {
      "cell_type": "markdown",
      "source": [
        "carregando dataset"
      ],
      "metadata": {
        "id": "KNBM4cHZZgn8"
      }
    },
    {
      "cell_type": "code",
      "source": [
        "(ds_train, ds_val), ds_info = tfds.load(\n",
        "    'cats_vs_dogs',\n",
        "    split=['train[:80%]', 'train[80%:]'],\n",
        "    shuffle_files=True,\n",
        "    as_supervised=True,\n",
        "    with_info=True,\n",
        ")"
      ],
      "metadata": {
        "id": "PGk-l_DKMtLZ"
      },
      "execution_count": 30,
      "outputs": []
    },
    {
      "cell_type": "markdown",
      "source": [
        "redimensionando e normalizando as imagens"
      ],
      "metadata": {
        "id": "IwpD1jCHN4ob"
      }
    },
    {
      "cell_type": "code",
      "source": [
        "IMG_SIZE = 160\n",
        "\n",
        "def format_example(image, label):\n",
        "    image = tf.image.resize(image, (IMG_SIZE, IMG_SIZE))\n",
        "    image = image / 255.0\n",
        "    return image, label\n",
        "\n",
        "ds_train = ds_train.map(format_example, num_parallel_calls=tf.data.experimental.AUTOTUNE)\n",
        "ds_val = ds_val.map(format_example, num_parallel_calls=tf.data.experimental.AUTOTUNE)\n",
        "\n",
        "BATCH_SIZE = 32\n",
        "AUTOTUNE = tf.data.experimental.AUTOTUNE\n",
        "\n",
        "ds_train = ds_train.cache().shuffle(1000).batch(BATCH_SIZE).prefetch(buffer_size=AUTOTUNE)\n",
        "ds_val = ds_val.batch(BATCH_SIZE).prefetch(buffer_size=AUTOTUNE)"
      ],
      "metadata": {
        "id": "9QIXxpNTN722"
      },
      "execution_count": 31,
      "outputs": []
    },
    {
      "cell_type": "code",
      "source": [
        "for image, label in ds_train.take(1):\n",
        "    print(\"Image shape:\", image.numpy().shape)\n",
        "    print(\"Label:\", label.numpy())\n"
      ],
      "metadata": {
        "colab": {
          "base_uri": "https://localhost:8080/"
        },
        "id": "NlKMgcxzYI8W",
        "outputId": "d1952856-1434-4fed-a8eb-0b355f53d98e"
      },
      "execution_count": 32,
      "outputs": [
        {
          "output_type": "stream",
          "name": "stdout",
          "text": [
            "Image shape: (32, 160, 160, 3)\n",
            "Label: [0 0 1 1 0 1 0 1 0 0 0 0 0 0 1 1 0 0 1 1 0 0 0 0 0 1 0 1 1 0 1 1]\n"
          ]
        }
      ]
    },
    {
      "cell_type": "markdown",
      "source": [
        "usando o modelo pré treinado no imagenet"
      ],
      "metadata": {
        "id": "HrNjh7cNRjOn"
      }
    },
    {
      "cell_type": "code",
      "source": [
        "IMG_SHAPE = (IMG_SIZE, IMG_SIZE, 3)\n",
        "base_model = tf.keras.applications.MobileNetV2(input_shape=IMG_SHAPE, include_top=False, weights='imagenet')\n",
        "\n",
        "base_model.trainable = False\n",
        "\n",
        "global_average_layer = tf.keras.layers.GlobalAveragePooling2D()\n",
        "prediction_layer = tf.keras.layers.Dense(1)\n",
        "\n",
        "model = tf.keras.Sequential([\n",
        "    base_model,\n",
        "    global_average_layer,\n",
        "    prediction_layer\n",
        "])"
      ],
      "metadata": {
        "id": "KwCMrzquODnR"
      },
      "execution_count": 33,
      "outputs": []
    },
    {
      "cell_type": "markdown",
      "source": [
        "compilando meu modelo"
      ],
      "metadata": {
        "id": "bBVsvuWgSXUQ"
      }
    },
    {
      "cell_type": "code",
      "source": [
        "base_learning_rate = 0.0001\n",
        "model.compile(optimizer=tf.keras.optimizers.Adam(learning_rate=base_learning_rate),\n",
        "              loss=tf.keras.losses.BinaryCrossentropy(from_logits=True),\n",
        "              metrics=['accuracy'])"
      ],
      "metadata": {
        "id": "HxM4Bm66SZiM"
      },
      "execution_count": 34,
      "outputs": []
    },
    {
      "cell_type": "markdown",
      "source": [
        "treinando meu modelo"
      ],
      "metadata": {
        "id": "yDT3I7aYUoAm"
      }
    },
    {
      "cell_type": "code",
      "source": [
        "initial_epochs = 4\n",
        "\n",
        "history = model.fit(ds_train,\n",
        "                    epochs=initial_epochs,\n",
        "                    validation_data=ds_val)"
      ],
      "metadata": {
        "colab": {
          "base_uri": "https://localhost:8080/"
        },
        "id": "YpxYWkjheqPv",
        "outputId": "f6661c37-293b-4db1-c827-7aa835c623ba"
      },
      "execution_count": 36,
      "outputs": [
        {
          "output_type": "stream",
          "name": "stdout",
          "text": [
            "Epoch 1/4\n",
            "582/582 [==============================] - 368s 632ms/step - loss: 0.0832 - accuracy: 0.9685 - val_loss: 0.0790 - val_accuracy: 0.9703\n",
            "Epoch 2/4\n",
            "582/582 [==============================] - 397s 683ms/step - loss: 0.0750 - accuracy: 0.9706 - val_loss: 0.0730 - val_accuracy: 0.9718\n",
            "Epoch 3/4\n",
            "582/582 [==============================] - 364s 627ms/step - loss: 0.0696 - accuracy: 0.9724 - val_loss: 0.0692 - val_accuracy: 0.9729\n",
            "Epoch 4/4\n",
            "582/582 [==============================] - 371s 638ms/step - loss: 0.0656 - accuracy: 0.9744 - val_loss: 0.0662 - val_accuracy: 0.9742\n"
          ]
        }
      ]
    },
    {
      "cell_type": "markdown",
      "source": [
        "avaliando o modelo"
      ],
      "metadata": {
        "id": "9aCSAjVMvCNc"
      }
    },
    {
      "cell_type": "code",
      "source": [
        "loss, accuracy = model.evaluate(ds_val)\n",
        "print(f'Loss: {loss}')\n",
        "print(f'Accuracy: {accuracy}')"
      ],
      "metadata": {
        "colab": {
          "base_uri": "https://localhost:8080/"
        },
        "id": "Yau-ilpqvAfT",
        "outputId": "39b1ef24-104a-4e01-ffd3-241226c731b9"
      },
      "execution_count": 37,
      "outputs": [
        {
          "output_type": "stream",
          "name": "stdout",
          "text": [
            "146/146 [==============================] - 87s 592ms/step - loss: 0.0662 - accuracy: 0.9742\n",
            "Loss: 0.06617067754268646\n",
            "Accuracy: 0.9742046594619751\n"
          ]
        }
      ]
    }
  ]
}